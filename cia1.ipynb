{
 "cells": [
  {
   "cell_type": "markdown",
   "metadata": {},
   "source": [
    "# CS2007 - ARTIFICIAL INTELLIGENCE\n",
    "\n",
    "## CIA-1\n",
    "\n",
    "**Submitted by:**\n",
    "\n",
    "**Name:** Raahul R <br>\n",
    "**Dept:** B.Tech CSE (Cyber Security), 3rd Year <br>\n",
    "**RegNo:** 22011103043 <br>\n",
    "**GitHub:** raahulcodez\n",
    "\n",
    "**Implement the following AI search algorithms:**\n",
    "\n",
    "- British Museum Search\n",
    "- Depth First Search \n",
    "- Breadth First Search \n",
    "- Hill Climbing\n",
    "- Beam Search\n",
    "- Oracle\n",
    "- Branch and Bound\n",
    "- Branch and Bound + Extended List (deadhorse)\n",
    "- Branch and Bound + Cost + Heuristics\n",
    "- A*"
   ]
  },
  {
   "cell_type": "markdown",
   "metadata": {},
   "source": [
    "### Hard coding a sample graph"
   ]
  },
  {
   "cell_type": "code",
   "execution_count": 13,
   "metadata": {},
   "outputs": [],
   "source": [
    "graph = {\n",
    "    'A': {'heuristic': 7, 'edges': {'B': 1, 'C': 4}},\n",
    "    'B': {'heuristic': 6, 'edges': {'D': 2, 'E': 5}},\n",
    "    'C': {'heuristic': 2, 'edges': {'D': 2, 'F': 5}},\n",
    "    'D': {'heuristic': 1, 'edges': {'E': 1, 'G': 3}},\n",
    "    'E': {'heuristic': 4, 'edges': {'H': 2}},\n",
    "    'F': {'heuristic': 1, 'edges': {'H': 3}},\n",
    "    'G': {'heuristic': 3, 'edges': {'H': 1}},\n",
    "    'H': {'heuristic': 0, 'edges': {}}\n",
    "}"
   ]
  },
  {
   "cell_type": "code",
   "execution_count": 14,
   "metadata": {},
   "outputs": [],
   "source": [
    "def calculate_path_cost(graph, path):\n",
    "    total_cost = 0\n",
    "    for i in range(len(path) - 1):\n",
    "        current_node = path[i]\n",
    "        next_node = path[i + 1]\n",
    "        # Add the cost of the edge between current_node and next_node\n",
    "        total_cost += graph[current_node]['edges'][next_node]\n",
    "    return total_cost"
   ]
  },
  {
   "cell_type": "markdown",
   "metadata": {},
   "source": [
    "**British Museum Search (BMS):**"
   ]
  },
  {
   "cell_type": "code",
   "execution_count": 15,
   "metadata": {},
   "outputs": [
    {
     "name": "stdout",
     "output_type": "stream",
     "text": [
      "Path from A to H: ['A', 'B', 'E', 'H']\n",
      "Path cost: 8\n"
     ]
    }
   ],
   "source": [
    "def british_museum_search(graph, start, goal):\n",
    "    # Initialize the frontier and explored set\n",
    "    frontier = [start]  # Start with the start node\n",
    "    explored = set()\n",
    "    paths = {start: None}  # To store paths\n",
    "\n",
    "    while frontier:\n",
    "        # Sort the frontier to explore nodes in alphabetical order\n",
    "        frontier.sort()\n",
    "        current_node = frontier.pop(0)  # Get the first node from the frontier\n",
    "\n",
    "        # Check if we reached the goal\n",
    "        if current_node == goal:\n",
    "            return reconstruct_path(paths, start, goal)\n",
    "\n",
    "        explored.add(current_node)\n",
    "\n",
    "        # Explore neighbors in alphabetical order\n",
    "        for neighbor in sorted(graph[current_node]['edges']):\n",
    "            if neighbor not in explored and neighbor not in frontier:\n",
    "                frontier.append(neighbor)\n",
    "                paths[neighbor] = current_node  # Update the path\n",
    "\n",
    "    return None  # Return None if no path is found\n",
    "\n",
    "def reconstruct_path(paths, start, goal):\n",
    "    path = []\n",
    "    current = goal\n",
    "    while current is not None:\n",
    "        path.append(current)\n",
    "        current = paths[current]\n",
    "    path.reverse()\n",
    "    return path\n",
    "\n",
    "path = british_museum_search(graph, \"A\", \"H\")\n",
    "print(f\"Path from A to H: {path}\")\n",
    "print(f\"Path cost: {calculate_path_cost(graph, path)}\")"
   ]
  },
  {
   "cell_type": "markdown",
   "metadata": {},
   "source": [
    "**Oracle:**"
   ]
  },
  {
   "cell_type": "markdown",
   "metadata": {},
   "source": [
    "**Depth First Search (DFS):**"
   ]
  },
  {
   "cell_type": "code",
   "execution_count": 16,
   "metadata": {},
   "outputs": [
    {
     "name": "stdout",
     "output_type": "stream",
     "text": [
      "Path from A to H: ['A', 'B', 'D', 'E', 'H']\n",
      "Path cost: 6\n"
     ]
    }
   ],
   "source": [
    "def depth_first_search(graph, start, goal, path=None, visited=None):\n",
    "    if path is None:\n",
    "        path = []\n",
    "    if visited is None:\n",
    "        visited = set()\n",
    "\n",
    "    path.append(start)\n",
    "    visited.add(start)\n",
    "\n",
    "    # If we've reached the goal node, return the current path\n",
    "    if start == goal:\n",
    "        return path\n",
    "\n",
    "    # Recursively explore each neighbor of the current node\n",
    "    for neighbor in graph[start]['edges']:\n",
    "        if neighbor not in visited:\n",
    "            result = depth_first_search(graph, neighbor, goal, path, visited)\n",
    "            if result:  # If a valid path is found\n",
    "                return result\n",
    "\n",
    "    # Backtrack if no valid path is found from this node\n",
    "    path.pop()\n",
    "    return None\n",
    "\n",
    "path = depth_first_search(graph, \"A\", \"H\")\n",
    "\n",
    "print(f\"Path from A to H: {path}\")\n",
    "print(f\"Path cost: {calculate_path_cost(graph, path)}\")"
   ]
  },
  {
   "cell_type": "markdown",
   "metadata": {},
   "source": [
    "**Breadth first search (BFS):**"
   ]
  },
  {
   "cell_type": "code",
   "execution_count": 22,
   "metadata": {},
   "outputs": [
    {
     "name": "stdout",
     "output_type": "stream",
     "text": [
      "Path from A to H: ['A', 'B', 'E', 'H']\n",
      "Path cost: 8\n"
     ]
    }
   ],
   "source": [
    "from collections import deque\n",
    "\n",
    "def breadth_first_search(graph, start, goal):\n",
    "    queue = deque([[start]])  # Queue to store paths\n",
    "    visited = set()           # Set to store visited nodes\n",
    "\n",
    "    while queue:\n",
    "        path = queue.popleft()  \n",
    "        node = path[-1]         \n",
    "\n",
    "        if node == goal:\n",
    "            return path\n",
    "\n",
    "        # If node has not been visited, mark it as visited\n",
    "        if node not in visited:\n",
    "            visited.add(node)\n",
    "\n",
    "            # Explore the neighbors of the current node\n",
    "            for neighbor in graph[node]['edges']:\n",
    "                new_path = list(path) \n",
    "                new_path.append(neighbor)\n",
    "                queue.append(new_path)  \n",
    "\n",
    "    return None \n",
    "\n",
    "path = breadth_first_search(graph, \"A\", \"H\")\n",
    "\n",
    "print(f\"Path from A to H: {path}\")\n",
    "print(f\"Path cost: {calculate_path_cost(graph, path)}\")"
   ]
  },
  {
   "cell_type": "markdown",
   "metadata": {},
   "source": [
    "**Hill Climbing:**"
   ]
  },
  {
   "cell_type": "code",
   "execution_count": 23,
   "metadata": {},
   "outputs": [
    {
     "name": "stdout",
     "output_type": "stream",
     "text": [
      "No path found (stuck at local maxima)\n"
     ]
    }
   ],
   "source": [
    "def hill_climbing(graph, start, goal):\n",
    "    path = [start]\n",
    "    current_node = start\n",
    "\n",
    "    while current_node != goal:\n",
    "        neighbors = graph[current_node]['edges']\n",
    "        \n",
    "        # If there are no neighbors to move to, return None (stuck at local maxima)\n",
    "        if not neighbors:\n",
    "            return None\n",
    "\n",
    "        # Choose the neighbor with the lowest heuristic value\n",
    "        next_node = min(neighbors, key=lambda neighbor: graph[neighbor]['heuristic'])\n",
    "\n",
    "        # If the next node's heuristic is not better, stop (local maxima)\n",
    "        if graph[next_node]['heuristic'] >= graph[current_node]['heuristic']:\n",
    "            return None\n",
    "\n",
    "        # Move to the next node and add it to the path\n",
    "        path.append(next_node)\n",
    "        current_node = next_node\n",
    "\n",
    "    return path\n",
    "\n",
    "# Perform hill climbing search\n",
    "path = hill_climbing(graph, \"A\", \"H\")\n",
    "\n",
    "# Print the path and its cost if found\n",
    "if path:\n",
    "    print(f\"Path from A to H: {path}\")\n",
    "    print(f\"Path cost: {calculate_path_cost(graph, path)}\")\n",
    "else:\n",
    "    print(\"No path found (stuck at local maxima)\")"
   ]
  },
  {
   "cell_type": "markdown",
   "metadata": {},
   "source": [
    "**Beam Search (width - 2):**"
   ]
  },
  {
   "cell_type": "code",
   "execution_count": 24,
   "metadata": {},
   "outputs": [
    {
     "name": "stdout",
     "output_type": "stream",
     "text": [
      "Path from A to H: ['A', 'B', 'D', 'E', 'H']\n",
      "Path cost: 6\n"
     ]
    }
   ],
   "source": [
    "import heapq\n",
    "\n",
    "def beam_search(graph, start, goal, beam_width):\n",
    "    # Priority queue for nodes to explore, initialized with the start node and a cost of 0\n",
    "    priority_queue = [(0, [start])]  # (current cost, path)\n",
    "\n",
    "    while priority_queue:\n",
    "        # Only keep the top 'beam_width' number of paths\n",
    "        next_queue = []\n",
    "\n",
    "        # Process all current paths in the priority queue\n",
    "        for current_cost, path in priority_queue:\n",
    "            current_node = path[-1]\n",
    "\n",
    "            # If we reach the goal, return the path and its cost\n",
    "            if current_node == goal:\n",
    "                return path, current_cost\n",
    "\n",
    "            # Explore neighbors of the current node\n",
    "            for neighbor, edge_cost in graph[current_node]['edges'].items():\n",
    "                if neighbor not in path:  # Avoid cycles\n",
    "                    new_cost = current_cost + edge_cost\n",
    "                    new_path = path + [neighbor]\n",
    "                    next_queue.append((new_cost, new_path))\n",
    "\n",
    "        # Sort next_queue by cost and trim it to the beam width\n",
    "        next_queue = sorted(next_queue, key=lambda x: x[0])[:beam_width]\n",
    "\n",
    "        # Update priority queue with the top beam_width paths\n",
    "        priority_queue = next_queue\n",
    "\n",
    "    # If no path found to the goal\n",
    "    return None, float('inf')\n",
    "\n",
    "# Perform Beam Search with beam width 2\n",
    "beam_width = 2\n",
    "path, cost = beam_search(graph, \"A\", \"H\", beam_width)\n",
    "\n",
    "# Print the best path and its cost if found\n",
    "if path:\n",
    "    print(f\"Path from A to H: {path}\")\n",
    "    print(f\"Path cost: {cost}\")\n",
    "else:\n",
    "    print(\"No path found\")\n"
   ]
  },
  {
   "cell_type": "markdown",
   "metadata": {},
   "source": [
    "**Oracle:**"
   ]
  },
  {
   "cell_type": "code",
   "execution_count": 25,
   "metadata": {},
   "outputs": [
    {
     "name": "stdout",
     "output_type": "stream",
     "text": [
      "Path from A to H: ['A', 'B', 'D', 'E', 'H']\n",
      "Path cost: 6\n"
     ]
    }
   ],
   "source": [
    "def oracle_search(graph, start, goal, OR):\n",
    "    path = [start]\n",
    "    current_node = start\n",
    "    current_cost = 0\n",
    "\n",
    "    while current_node != goal:\n",
    "        # Get the neighbors of the current node\n",
    "        neighbors = list(graph[current_node]['edges'].keys())\n",
    "\n",
    "        if not neighbors:  # If no neighbors, path is stuck\n",
    "            return None, float('inf')\n",
    "\n",
    "        # Find the neighbor with the smallest edge cost\n",
    "        next_node = min(neighbors, key=lambda node: graph[current_node]['edges'][node])\n",
    "        edge_cost = graph[current_node]['edges'][next_node]\n",
    "\n",
    "        # Add the cost of moving to the next node\n",
    "        current_cost += edge_cost\n",
    "\n",
    "        # If total cost exceeds the Oracle Rate (OR), discard this path\n",
    "        if current_cost > OR:\n",
    "            return None, float('inf')\n",
    "\n",
    "        # Move to the next node and add to the path\n",
    "        path.append(next_node)\n",
    "        current_node = next_node\n",
    "\n",
    "        # If we are stuck in a cycle, terminate\n",
    "        if len(path) > len(graph):  # This prevents infinite loops\n",
    "            return None, float('inf')\n",
    "\n",
    "    # Calculate the cost of the final path using the provided function\n",
    "    path_cost = calculate_path_cost(graph, path)\n",
    "    return path, path_cost\n",
    "\n",
    "# Perform Oracle Search with Oracle Rate 6\n",
    "path, cost = oracle_search(graph, \"A\", \"H\", OR=6)\n",
    "if path:\n",
    "    print(f\"Path from A to H: {path}\")\n",
    "    print(f\"Path cost: {cost}\")\n",
    "else:\n",
    "    print(\"No path found\")\n"
   ]
  },
  {
   "cell_type": "markdown",
   "metadata": {},
   "source": [
    "**Branch and Bound:**"
   ]
  },
  {
   "cell_type": "code",
   "execution_count": 20,
   "metadata": {},
   "outputs": [
    {
     "name": "stdout",
     "output_type": "stream",
     "text": [
      "Best path from A to H: ['A', 'B', 'D', 'E', 'H']\n",
      "Path cost: 6\n"
     ]
    }
   ],
   "source": [
    "import heapq\n",
    "\n",
    "def branch_and_bound(graph, start, goal):\n",
    "    # Priority queue for nodes to explore, initialized with the start node and a cost of 0\n",
    "    priority_queue = [(0, [start])]  # (current cost, path)\n",
    "    best_path = None\n",
    "    best_cost = float('inf')  # Initially, set the best cost to infinity\n",
    "\n",
    "    while priority_queue:\n",
    "        current_cost, path = heapq.heappop(priority_queue)\n",
    "        current_node = path[-1]\n",
    "\n",
    "        # If we reach the goal, check if it's the best path so far\n",
    "        if current_node == goal:\n",
    "            if current_cost < best_cost:\n",
    "                best_cost = current_cost\n",
    "                best_path = path\n",
    "            continue\n",
    "\n",
    "        # Explore neighbors of the current node\n",
    "        for neighbor, edge_cost in graph[current_node]['edges'].items():\n",
    "            if neighbor not in path:  # Avoid cycles\n",
    "                new_cost = current_cost + edge_cost\n",
    "                new_path = path + [neighbor]\n",
    "\n",
    "                # Only explore if this new path's cost is better than the best path's cost so far\n",
    "                if new_cost < best_cost:\n",
    "                    heapq.heappush(priority_queue, (new_cost, new_path))\n",
    "\n",
    "    return best_path, best_cost\n",
    "\n",
    "# Perform Branch and Bound search\n",
    "path, cost = branch_and_bound(graph, \"A\", \"H\")\n",
    "\n",
    "# Print the best path and its cost if found\n",
    "if path:\n",
    "    print(f\"Best path from A to H: {path}\")\n",
    "    print(f\"Path cost: {cost}\")\n",
    "else:\n",
    "    print(\"No path found\")"
   ]
  },
  {
   "cell_type": "markdown",
   "metadata": {},
   "source": [
    "**Branch and Bound + Extended List (Deadhorse):**"
   ]
  },
  {
   "cell_type": "code",
   "execution_count": 26,
   "metadata": {},
   "outputs": [
    {
     "name": "stdout",
     "output_type": "stream",
     "text": [
      "Branch and Bound + Deadhorse path from A to H: ['A', 'B', 'D', 'E', 'H']\n",
      "Path cost: 6\n"
     ]
    }
   ],
   "source": [
    "import heapq\n",
    "\n",
    "def branch_and_bound_deadhorse(graph, start, goal):\n",
    "    # Priority queue for Branch and Bound (heapq) stores (cost, path)\n",
    "    priority_queue = [(0, [start])]\n",
    "    best_cost = float('inf')\n",
    "    best_path = None\n",
    "    deadhorse = set()  # Extended list to avoid suboptimal paths\n",
    "\n",
    "    while priority_queue:\n",
    "        current_cost, path = heapq.heappop(priority_queue)\n",
    "        current_node = path[-1]\n",
    "\n",
    "        # If current path exceeds the best known cost, skip it (pruning)\n",
    "        if current_cost >= best_cost:\n",
    "            continue\n",
    "\n",
    "        # If the current node is the goal and cost is better than best_cost\n",
    "        if current_node == goal:\n",
    "            if current_cost < best_cost:\n",
    "                best_cost = current_cost\n",
    "                best_path = path\n",
    "            continue\n",
    "\n",
    "        # Add current path to the Deadhorse list to avoid revisiting\n",
    "        deadhorse.add(tuple(path))\n",
    "\n",
    "        # Explore neighbors of the current node\n",
    "        for neighbor, edge_cost in graph[current_node]['edges'].items():\n",
    "            if neighbor not in path:\n",
    "                new_path = path + [neighbor]\n",
    "                new_cost = current_cost + edge_cost\n",
    "                \n",
    "                # Skip if the new path is already in Deadhorse list\n",
    "                if tuple(new_path) not in deadhorse:\n",
    "                    heapq.heappush(priority_queue, (new_cost, new_path))\n",
    "\n",
    "    return best_path, best_cost\n",
    "\n",
    "# Perform Branch and Bound + Deadhorse Search\n",
    "path, cost = branch_and_bound_deadhorse(graph, \"A\", \"H\")\n",
    "\n",
    "# Print the resulting path and cost if found\n",
    "if path:\n",
    "    print(f\"Branch and Bound + Deadhorse path from A to H: {path}\")\n",
    "    print(f\"Path cost: {cost}\")\n",
    "else:\n",
    "    print(\"No valid path found.\")\n"
   ]
  },
  {
   "cell_type": "markdown",
   "metadata": {},
   "source": [
    "**Branch and Bound + Cost + Heuristic:**"
   ]
  },
  {
   "cell_type": "code",
   "execution_count": 27,
   "metadata": {},
   "outputs": [
    {
     "name": "stdout",
     "output_type": "stream",
     "text": [
      "Branch and Bound (Cost + Heuristics) path from A to H: ['A', 'B', 'D', 'E', 'H']\n",
      "Path cost: 6\n"
     ]
    }
   ],
   "source": [
    "import heapq\n",
    "\n",
    "def branch_and_bound_with_heuristics(graph, start, goal):\n",
    "    # Priority queue stores tuples (total_cost, path_cost, node, path)\n",
    "    priority_queue = [(graph[start]['heuristic'], 0, start, [start])]\n",
    "    best_cost = float('inf')\n",
    "    best_path = None\n",
    "    visited = set()\n",
    "\n",
    "    while priority_queue:\n",
    "        total_cost, current_cost, current_node, path = heapq.heappop(priority_queue)\n",
    "\n",
    "        # If we reached the goal node, check if this path is better\n",
    "        if current_node == goal:\n",
    "            if current_cost < best_cost:\n",
    "                best_cost = current_cost\n",
    "                best_path = path\n",
    "            continue\n",
    "        \n",
    "        # Mark the current node as visited\n",
    "        visited.add(current_node)\n",
    "\n",
    "        # Explore neighbors\n",
    "        for neighbor, edge_cost in graph[current_node]['edges'].items():\n",
    "            if neighbor not in visited:\n",
    "                new_path = path + [neighbor]\n",
    "                new_cost = current_cost + edge_cost\n",
    "                heuristic_cost = graph[neighbor]['heuristic']\n",
    "                total_new_cost = new_cost + heuristic_cost\n",
    "\n",
    "                # Only add to queue if total_new_cost is better than the best known cost\n",
    "                if total_new_cost < best_cost:\n",
    "                    heapq.heappush(priority_queue, (total_new_cost, new_cost, neighbor, new_path))\n",
    "\n",
    "    return best_path, best_cost\n",
    "\n",
    "# Perform Branch and Bound with cost + heuristics\n",
    "path, cost = branch_and_bound_with_heuristics(graph, \"A\", \"H\")\n",
    "\n",
    "# Print the resulting path and cost if found\n",
    "if path:\n",
    "    print(f\"Branch and Bound (Cost + Heuristics) path from A to H: {path}\")\n",
    "    print(f\"Path cost: {cost}\")\n",
    "else:\n",
    "    print(\"No valid path found.\")"
   ]
  },
  {
   "cell_type": "markdown",
   "metadata": {},
   "source": [
    "**A***"
   ]
  },
  {
   "cell_type": "code",
   "execution_count": 28,
   "metadata": {},
   "outputs": [
    {
     "name": "stdout",
     "output_type": "stream",
     "text": [
      "A* path from A to H: ['A', 'B', 'D', 'E', 'H']\n",
      "Path cost: 6\n"
     ]
    }
   ],
   "source": [
    "import heapq\n",
    "\n",
    "def a_star(graph, start, goal):\n",
    "    # Priority queue stores tuples (f_cost, g_cost, node, path)\n",
    "    priority_queue = [(graph[start]['heuristic'], 0, start, [start])]\n",
    "    visited = set()\n",
    "\n",
    "    while priority_queue:\n",
    "        # Pop the node with the lowest f(n) = g(n) + h(n)\n",
    "        f_cost, g_cost, current_node, path = heapq.heappop(priority_queue)\n",
    "\n",
    "        # If we reached the goal node, return the path and cost\n",
    "        if current_node == goal:\n",
    "            return path, g_cost\n",
    "\n",
    "        # Mark the current node as visited\n",
    "        if current_node in visited:\n",
    "            continue\n",
    "        visited.add(current_node)\n",
    "\n",
    "        # Explore neighbors\n",
    "        for neighbor, edge_cost in graph[current_node]['edges'].items():\n",
    "            if neighbor not in visited:\n",
    "                new_g_cost = g_cost + edge_cost  # Update the path cost (g(n))\n",
    "                heuristic_cost = graph[neighbor]['heuristic']  # Heuristic cost (h(n))\n",
    "                new_f_cost = new_g_cost + heuristic_cost  # f(n) = g(n) + h(n)\n",
    "                new_path = path + [neighbor]\n",
    "                \n",
    "                # Add to priority queue\n",
    "                heapq.heappush(priority_queue, (new_f_cost, new_g_cost, neighbor, new_path))\n",
    "\n",
    "    return None, float('inf')  # Return None if no path is found\n",
    "\n",
    "# Perform A* Search\n",
    "path, cost = a_star(graph, \"A\", \"H\")\n",
    "\n",
    "# Print the resulting path and cost if found\n",
    "if path:\n",
    "    print(f\"A* path from A to H: {path}\")\n",
    "    print(f\"Path cost: {cost}\")\n",
    "else:\n",
    "    print(\"No valid path found.\")\n"
   ]
  }
 ],
 "metadata": {
  "kernelspec": {
   "display_name": "Python 3",
   "language": "python",
   "name": "python3"
  },
  "language_info": {
   "codemirror_mode": {
    "name": "ipython",
    "version": 3
   },
   "file_extension": ".py",
   "mimetype": "text/x-python",
   "name": "python",
   "nbconvert_exporter": "python",
   "pygments_lexer": "ipython3",
   "version": "3.11.9"
  }
 },
 "nbformat": 4,
 "nbformat_minor": 2
}
